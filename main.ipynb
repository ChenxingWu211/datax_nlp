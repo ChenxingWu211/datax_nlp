{
 "cells": [
  {
   "cell_type": "code",
   "execution_count": null,
   "metadata": {},
   "outputs": [],
   "source": [
    "## import packages\n",
    "import json\n",
    "import re\n",
    "import heapq\n",
    "import pandas as pd\n",
    "import matplotlib.pyplot as plt\n",
    "import numpy as np\n",
    "import nltk\n",
    "#nltk.download('all')\n",
    "from nltk.tokenize import sent_tokenize # tokenizes sentences\n",
    "from nltk.stem import PorterStemmer\n",
    "from nltk.tag import pos_tag\n",
    "from nltk.corpus import stopwords\n",
    "from nltk.corpus import wordnet\n",
    "from nltk.stem import WordNetLemmatizer\n",
    "from nltk.util import ngrams"
   ]
  },
  {
   "cell_type": "code",
   "execution_count": null,
   "metadata": {},
   "outputs": [],
   "source": [
    "## load the original dataset\n",
    "with open('pmid-pdf.json','r', encoding='UTF-8') as f:\n",
    "    data_full = json.load(f)\n",
    "    f.close()"
   ]
  },
  {
   "cell_type": "code",
   "execution_count": null,
   "metadata": {},
   "outputs": [],
   "source": [
    "## extract the papers with results\n",
    "data_cleaned = []\n",
    "\n",
    "for data in data_full:\n",
    "    for chunk in data['body']:\n",
    "        if (chunk['header'].lower() == 'result' or chunk['header'].lower() == 'results') and len(chunk['content'])> 0:\n",
    "            data_cleaned.append(data)\n",
    "            next"
   ]
  },
  {
   "cell_type": "code",
   "execution_count": null,
   "metadata": {},
   "outputs": [],
   "source": [
    "## get the title of a paper\n",
    "def get_title(in_data):\n",
    "    return in_data['title']"
   ]
  },
  {
   "cell_type": "code",
   "execution_count": null,
   "metadata": {},
   "outputs": [],
   "source": [
    "## get the arthur of a paper\n",
    "def get_authors(in_data):\n",
    "    authors = [x['forename'] for x in in_data['authors']]\n",
    "    return ','.join(authors)"
   ]
  },
  {
   "cell_type": "code",
   "execution_count": null,
   "metadata": {},
   "outputs": [],
   "source": [
    "## get url for the full paper\n",
    "def get_pmid(in_data):\n",
    "    pmid = in_data['id']\n",
    "    return pmid"
   ]
  },
  {
   "cell_type": "code",
   "execution_count": null,
   "metadata": {},
   "outputs": [],
   "source": [
    "## get abstract of the paper\n",
    "def get_abstract(in_data):\n",
    "    abstract = in_data['_abstract']\n",
    "    return abstract"
   ]
  },
  {
   "cell_type": "code",
   "execution_count": null,
   "metadata": {},
   "outputs": [],
   "source": [
    "## get summarization of the results of a paper\n",
    "def get_sum(in_data):\n",
    "    \n",
    "    ## extract the result part of the paper\n",
    "    def results(in_data):\n",
    "        for chunk in in_data['body']:\n",
    "            if (chunk['header'].lower() == 'result' or chunk['header'].lower() == 'results') and len(chunk['content'])> 0:\n",
    "                return chunk['content']\n",
    "    result = results(in_data)\n",
    "    \n",
    "    ## if the result is short, we don't need to summarize it\n",
    "    if len(result)<30:\n",
    "        return result\n",
    "    \n",
    "    ## clean the text and score the sentences\n",
    "    result_cleaned = re.sub('[^a-zA-Z]',' ',result)\n",
    "    result_cleaned = re.sub(r'\\s+',' ', result_cleaned)\n",
    "    sentence = nltk.sent_tokenize(result) \n",
    "    stopwords = nltk.corpus.stopwords.words('english')\n",
    "    word_freq = {}  \n",
    "    for word in nltk.word_tokenize(result_cleaned):  \n",
    "        if word not in stopwords:\n",
    "            if word not in word_freq.keys():\n",
    "                word_freq[word] = 1\n",
    "            else:\n",
    "                word_freq[word] = word_freq[word]+1\n",
    "            \n",
    "    max_freq = max(word_freq.values())\n",
    "    for word in word_freq.keys():  \n",
    "        word_freq[word] = (word_freq[word]/max_freq)\n",
    "    \n",
    "    sentence_score = {}  \n",
    "    for sentence in sentence:  \n",
    "        for word in nltk.word_tokenize(sentence.lower()):\n",
    "            if word in word_freq.keys():\n",
    "                if len(sentence.split(' ')) < 35:\n",
    "                    if sentence not in sentence_score.keys():\n",
    "                        sentence_score[sentence] = word_freq[word]\n",
    "                    else:\n",
    "                        sentence_score[sentence] = sentence_score[sentence]+word_freq[word]\n",
    "    \n",
    "    ## choose the highest ranked sentences as summarization\n",
    "    summary_sentence = heapq.nlargest(5, sentence_score, key=sentence_score.get)\n",
    "    summary = ' '.join(summary_sentence)  \n",
    "    return summary"
   ]
  },
  {
   "cell_type": "code",
   "execution_count": null,
   "metadata": {},
   "outputs": [],
   "source": [
    "article_type = pd.read_csv(\"primary_output.csv\")\n",
    "def get_article_type(pmid):\n",
    "    flag = article_type[article_type[\"pmid\"] == pmid][\"flag\"]\n",
    "    if(flag.empty):\n",
    "        return(\"na\")\n",
    "    flag = flag.values[0]\n",
    "    if(flag == 0):\n",
    "        return(\"secondary\")\n",
    "    elif(flag == 1):\n",
    "        return(\"primary\")\n",
    "    else:\n",
    "        return(\"na\")"
   ]
  },
  {
   "cell_type": "code",
   "execution_count": null,
   "metadata": {},
   "outputs": [],
   "source": [
    "study_design = pd.read_csv(\"design_output.csv\")\n",
    "def get_study_design(pmid):\n",
    "    flag = study_design[study_design[\"pmid\"] == pmid][\"flag\"]\n",
    "    if(flag.empty):\n",
    "        return(\"na\")\n",
    "    flag = flag.values[0]\n",
    "    if(flag == 0):\n",
    "        return(\"non-randomized\")\n",
    "    elif(flag == 1):\n",
    "        return(\"randomized\")\n",
    "    else:\n",
    "        return(\"na\")"
   ]
  },
  {
   "cell_type": "code",
   "execution_count": null,
   "metadata": {
    "scrolled": false
   },
   "outputs": [],
   "source": [
    "dataframe = pd.DataFrame(columns=['title','authors','pmid','summarization','article type','study design'])"
   ]
  },
  {
   "cell_type": "code",
   "execution_count": null,
   "metadata": {},
   "outputs": [],
   "source": [
    "i=0\n",
    "for data in data_cleaned:\n",
    "    title = get_title(data)\n",
    "    authors = get_authors(data)\n",
    "    pmid = int(get_pmid(data))\n",
    "    summarization = get_sum(data)\n",
    "    a_type = get_article_type(pmid)\n",
    "    s_design = get_study_design(pmid)\n",
    "    dataframe.loc[i] = [title, authors, pmid, summarization, a_type, s_design]\n",
    "    i = i+1"
   ]
  },
  {
   "cell_type": "code",
   "execution_count": null,
   "metadata": {},
   "outputs": [],
   "source": [
    "import os\n",
    "current_path = os.getcwd()\n",
    "dataframe.to_csv(current_path+\"/datax_proj/happy.csv\")"
   ]
  }
 ],
 "metadata": {
  "kernelspec": {
   "display_name": "Python 3",
   "language": "python",
   "name": "python3"
  },
  "language_info": {
   "codemirror_mode": {
    "name": "ipython",
    "version": 3
   },
   "file_extension": ".py",
   "mimetype": "text/x-python",
   "name": "python",
   "nbconvert_exporter": "python",
   "pygments_lexer": "ipython3",
   "version": "3.6.5"
  }
 },
 "nbformat": 4,
 "nbformat_minor": 2
}
